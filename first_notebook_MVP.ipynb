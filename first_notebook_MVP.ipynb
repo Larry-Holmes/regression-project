{
 "cells": [
  {
   "cell_type": "code",
   "execution_count": 1,
   "id": "eaca2f1d-4467-48b2-93b0-38435ea80fe4",
   "metadata": {},
   "outputs": [],
   "source": [
    "import numpy as np\n",
    "import pandas as pd\n",
    "\n",
    "import matplotlib.pyplot as plt\n",
    "import seaborn as sns\n",
    "\n",
    "import scipy.stats as stats\n",
    "from sklearn.metrics import mean_squared_error, explained_variance_score\n",
    "from sklearn.linear_model import LinearRegression, LassoLars, TweedieRegressor\n",
    "from sklearn.preprocessing import PolynomialFeatures\n",
    "\n",
    "import wrangle\n",
    "import evaluate\n",
    "import env\n",
    "\n",
    "import warnings\n",
    "warnings.filterwarnings('ignore')"
   ]
  },
  {
   "cell_type": "code",
   "execution_count": 2,
   "id": "2a045840-b4d1-4b65-b65d-f4ce904d236f",
   "metadata": {},
   "outputs": [
    {
     "data": {
      "text/html": [
       "<div>\n",
       "<style scoped>\n",
       "    .dataframe tbody tr th:only-of-type {\n",
       "        vertical-align: middle;\n",
       "    }\n",
       "\n",
       "    .dataframe tbody tr th {\n",
       "        vertical-align: top;\n",
       "    }\n",
       "\n",
       "    .dataframe thead th {\n",
       "        text-align: right;\n",
       "    }\n",
       "</style>\n",
       "<table border=\"1\" class=\"dataframe\">\n",
       "  <thead>\n",
       "    <tr style=\"text-align: right;\">\n",
       "      <th></th>\n",
       "      <th>lot_id</th>\n",
       "      <th>total_rooms</th>\n",
       "      <th>bedrooms</th>\n",
       "      <th>bathrooms</th>\n",
       "      <th>garages</th>\n",
       "      <th>pools</th>\n",
       "      <th>area</th>\n",
       "      <th>lot_size</th>\n",
       "      <th>fips</th>\n",
       "      <th>county</th>\n",
       "      <th>city</th>\n",
       "      <th>zip</th>\n",
       "      <th>yearbuilt</th>\n",
       "      <th>tax_value</th>\n",
       "    </tr>\n",
       "  </thead>\n",
       "  <tbody>\n",
       "    <tr>\n",
       "      <th>0</th>\n",
       "      <td>14297519</td>\n",
       "      <td>0.0</td>\n",
       "      <td>4.0</td>\n",
       "      <td>3.5</td>\n",
       "      <td>2.0</td>\n",
       "      <td>NaN</td>\n",
       "      <td>3100.0</td>\n",
       "      <td>4506.0</td>\n",
       "      <td>6059.0</td>\n",
       "      <td>1286.0</td>\n",
       "      <td>53571.0</td>\n",
       "      <td>96978.0</td>\n",
       "      <td>1998.0</td>\n",
       "      <td>1023282.0</td>\n",
       "    </tr>\n",
       "    <tr>\n",
       "      <th>1</th>\n",
       "      <td>17052889</td>\n",
       "      <td>5.0</td>\n",
       "      <td>2.0</td>\n",
       "      <td>1.0</td>\n",
       "      <td>1.0</td>\n",
       "      <td>NaN</td>\n",
       "      <td>1465.0</td>\n",
       "      <td>12647.0</td>\n",
       "      <td>6111.0</td>\n",
       "      <td>2061.0</td>\n",
       "      <td>13091.0</td>\n",
       "      <td>97099.0</td>\n",
       "      <td>1967.0</td>\n",
       "      <td>464000.0</td>\n",
       "    </tr>\n",
       "    <tr>\n",
       "      <th>2</th>\n",
       "      <td>14186244</td>\n",
       "      <td>6.0</td>\n",
       "      <td>3.0</td>\n",
       "      <td>2.0</td>\n",
       "      <td>2.0</td>\n",
       "      <td>1.0</td>\n",
       "      <td>1243.0</td>\n",
       "      <td>8432.0</td>\n",
       "      <td>6059.0</td>\n",
       "      <td>1286.0</td>\n",
       "      <td>21412.0</td>\n",
       "      <td>97078.0</td>\n",
       "      <td>1962.0</td>\n",
       "      <td>564778.0</td>\n",
       "    </tr>\n",
       "    <tr>\n",
       "      <th>3</th>\n",
       "      <td>12177905</td>\n",
       "      <td>0.0</td>\n",
       "      <td>4.0</td>\n",
       "      <td>3.0</td>\n",
       "      <td>NaN</td>\n",
       "      <td>1.0</td>\n",
       "      <td>2376.0</td>\n",
       "      <td>13038.0</td>\n",
       "      <td>6037.0</td>\n",
       "      <td>3101.0</td>\n",
       "      <td>396551.0</td>\n",
       "      <td>96330.0</td>\n",
       "      <td>1970.0</td>\n",
       "      <td>145143.0</td>\n",
       "    </tr>\n",
       "    <tr>\n",
       "      <th>4</th>\n",
       "      <td>12095076</td>\n",
       "      <td>0.0</td>\n",
       "      <td>4.0</td>\n",
       "      <td>3.0</td>\n",
       "      <td>NaN</td>\n",
       "      <td>1.0</td>\n",
       "      <td>2962.0</td>\n",
       "      <td>63000.0</td>\n",
       "      <td>6037.0</td>\n",
       "      <td>3101.0</td>\n",
       "      <td>47019.0</td>\n",
       "      <td>96293.0</td>\n",
       "      <td>1950.0</td>\n",
       "      <td>773303.0</td>\n",
       "    </tr>\n",
       "  </tbody>\n",
       "</table>\n",
       "</div>"
      ],
      "text/plain": [
       "     lot_id  total_rooms  bedrooms  bathrooms  garages  pools    area  \\\n",
       "0  14297519          0.0       4.0        3.5      2.0    NaN  3100.0   \n",
       "1  17052889          5.0       2.0        1.0      1.0    NaN  1465.0   \n",
       "2  14186244          6.0       3.0        2.0      2.0    1.0  1243.0   \n",
       "3  12177905          0.0       4.0        3.0      NaN    1.0  2376.0   \n",
       "4  12095076          0.0       4.0        3.0      NaN    1.0  2962.0   \n",
       "\n",
       "   lot_size    fips  county      city      zip  yearbuilt  tax_value  \n",
       "0    4506.0  6059.0  1286.0   53571.0  96978.0     1998.0  1023282.0  \n",
       "1   12647.0  6111.0  2061.0   13091.0  97099.0     1967.0   464000.0  \n",
       "2    8432.0  6059.0  1286.0   21412.0  97078.0     1962.0   564778.0  \n",
       "3   13038.0  6037.0  3101.0  396551.0  96330.0     1970.0   145143.0  \n",
       "4   63000.0  6037.0  3101.0   47019.0  96293.0     1950.0   773303.0  "
      ]
     },
     "execution_count": 2,
     "metadata": {},
     "output_type": "execute_result"
    }
   ],
   "source": [
    "df = wrangle.get_zillow_data()\n",
    "df.head()"
   ]
  },
  {
   "cell_type": "code",
   "execution_count": 3,
   "id": "baf79467-8b1f-4f41-abd3-c7d33708a699",
   "metadata": {},
   "outputs": [
    {
     "data": {
      "text/html": [
       "<div>\n",
       "<style scoped>\n",
       "    .dataframe tbody tr th:only-of-type {\n",
       "        vertical-align: middle;\n",
       "    }\n",
       "\n",
       "    .dataframe tbody tr th {\n",
       "        vertical-align: top;\n",
       "    }\n",
       "\n",
       "    .dataframe thead th {\n",
       "        text-align: right;\n",
       "    }\n",
       "</style>\n",
       "<table border=\"1\" class=\"dataframe\">\n",
       "  <thead>\n",
       "    <tr style=\"text-align: right;\">\n",
       "      <th></th>\n",
       "      <th>bedrooms</th>\n",
       "      <th>bathrooms</th>\n",
       "      <th>area</th>\n",
       "      <th>tax_value</th>\n",
       "    </tr>\n",
       "  </thead>\n",
       "  <tbody>\n",
       "    <tr>\n",
       "      <th>0</th>\n",
       "      <td>4.0</td>\n",
       "      <td>3.5</td>\n",
       "      <td>3100.0</td>\n",
       "      <td>1023282.0</td>\n",
       "    </tr>\n",
       "    <tr>\n",
       "      <th>1</th>\n",
       "      <td>2.0</td>\n",
       "      <td>1.0</td>\n",
       "      <td>1465.0</td>\n",
       "      <td>464000.0</td>\n",
       "    </tr>\n",
       "    <tr>\n",
       "      <th>2</th>\n",
       "      <td>3.0</td>\n",
       "      <td>2.0</td>\n",
       "      <td>1243.0</td>\n",
       "      <td>564778.0</td>\n",
       "    </tr>\n",
       "    <tr>\n",
       "      <th>3</th>\n",
       "      <td>4.0</td>\n",
       "      <td>3.0</td>\n",
       "      <td>2376.0</td>\n",
       "      <td>145143.0</td>\n",
       "    </tr>\n",
       "    <tr>\n",
       "      <th>4</th>\n",
       "      <td>4.0</td>\n",
       "      <td>3.0</td>\n",
       "      <td>2962.0</td>\n",
       "      <td>773303.0</td>\n",
       "    </tr>\n",
       "  </tbody>\n",
       "</table>\n",
       "</div>"
      ],
      "text/plain": [
       "   bedrooms  bathrooms    area  tax_value\n",
       "0       4.0        3.5  3100.0  1023282.0\n",
       "1       2.0        1.0  1465.0   464000.0\n",
       "2       3.0        2.0  1243.0   564778.0\n",
       "3       4.0        3.0  2376.0   145143.0\n",
       "4       4.0        3.0  2962.0   773303.0"
      ]
     },
     "execution_count": 3,
     "metadata": {},
     "output_type": "execute_result"
    }
   ],
   "source": [
    "df2 = df.drop(columns = ['lot_id', 'total_rooms', 'garages', 'pools', 'lot_size', 'fips', 'county', 'city', 'zip', 'yearbuilt'])\n",
    "df2.head()"
   ]
  },
  {
   "cell_type": "code",
   "execution_count": 4,
   "id": "cac67e26-d31b-4b37-8024-f964a8f04445",
   "metadata": {},
   "outputs": [
    {
     "data": {
      "text/plain": [
       "bedrooms     False\n",
       "bathrooms    False\n",
       "area          True\n",
       "tax_value     True\n",
       "dtype: bool"
      ]
     },
     "execution_count": 4,
     "metadata": {},
     "output_type": "execute_result"
    }
   ],
   "source": [
    "df2.isnull().any()"
   ]
  },
  {
   "cell_type": "code",
   "execution_count": 5,
   "id": "8616e3e6-4a5d-452d-8ae5-70c5cc293012",
   "metadata": {},
   "outputs": [
    {
     "data": {
      "text/plain": [
       "bedrooms      0\n",
       "bathrooms     0\n",
       "area         82\n",
       "tax_value     1\n",
       "dtype: int64"
      ]
     },
     "execution_count": 5,
     "metadata": {},
     "output_type": "execute_result"
    }
   ],
   "source": [
    "df2.isnull().sum()"
   ]
  },
  {
   "cell_type": "code",
   "execution_count": 6,
   "id": "ec4d84a4-56ef-4b33-9fca-e370b6488fd2",
   "metadata": {},
   "outputs": [
    {
     "name": "stdout",
     "output_type": "stream",
     "text": [
      "<class 'pandas.core.frame.DataFrame'>\n",
      "Int64Index: 52441 entries, 0 to 52440\n",
      "Data columns (total 4 columns):\n",
      " #   Column     Non-Null Count  Dtype  \n",
      "---  ------     --------------  -----  \n",
      " 0   bedrooms   52441 non-null  float64\n",
      " 1   bathrooms  52441 non-null  float64\n",
      " 2   area       52359 non-null  float64\n",
      " 3   tax_value  52440 non-null  float64\n",
      "dtypes: float64(4)\n",
      "memory usage: 2.0 MB\n"
     ]
    }
   ],
   "source": [
    "df2.info()"
   ]
  },
  {
   "cell_type": "code",
   "execution_count": 7,
   "id": "a8e38f54-d378-41a7-b9c2-42a11acb1d71",
   "metadata": {},
   "outputs": [
    {
     "data": {
      "image/png": "[encoded data removed]",
      "text/plain": [
       "<Figure size 1152x216 with 4 Axes>"
      ]
     },
     "metadata": {
      "needs_background": "light"
     },
     "output_type": "display_data"
    },
    {
     "data": {
      "image/png": "[encoded data removed]",
      "text/plain": [
       "<Figure size 1152x216 with 4 Axes>"
      ]
     },
     "metadata": {
      "needs_background": "light"
     },
     "output_type": "display_data"
    }
   ],
   "source": [
    "train, validate, test, X_train, y_train, X_validate, y_validate, X_test, y_test = wrangle.prepare_zillow(df2, 'tax_value', ['bedrooms', 'bathrooms','area'])"
   ]
  },
  {
   "cell_type": "code",
   "execution_count": 8,
   "id": "8d03901f-b60f-40cc-87ec-ab7bf3f28818",
   "metadata": {},
   "outputs": [
    {
     "data": {
      "text/plain": [
       "((26773, 4), (11475, 4), (9562, 4))"
      ]
     },
     "execution_count": 8,
     "metadata": {},
     "output_type": "execute_result"
    }
   ],
   "source": [
    "train.shape, validate.shape, test.shape"
   ]
  },
  {
   "cell_type": "code",
   "execution_count": 9,
   "id": "37818248-635d-4345-96b2-4d499883bacb",
   "metadata": {},
   "outputs": [
    {
     "data": {
      "text/plain": [
       "bedrooms     False\n",
       "bathrooms    False\n",
       "area         False\n",
       "tax_value    False\n",
       "dtype: bool"
      ]
     },
     "execution_count": 9,
     "metadata": {},
     "output_type": "execute_result"
    }
   ],
   "source": [
    "train.isnull().any()"
   ]
  },
  {
   "cell_type": "code",
   "execution_count": 10,
   "id": "a33af0e9-b687-4064-9144-8dab2ecb7da8",
   "metadata": {},
   "outputs": [
    {
     "data": {
      "text/html": [
       "<div>\n",
       "<style scoped>\n",
       "    .dataframe tbody tr th:only-of-type {\n",
       "        vertical-align: middle;\n",
       "    }\n",
       "\n",
       "    .dataframe tbody tr th {\n",
       "        vertical-align: top;\n",
       "    }\n",
       "\n",
       "    .dataframe thead th {\n",
       "        text-align: right;\n",
       "    }\n",
       "</style>\n",
       "<table border=\"1\" class=\"dataframe\">\n",
       "  <thead>\n",
       "    <tr style=\"text-align: right;\">\n",
       "      <th></th>\n",
       "      <th>bedrooms</th>\n",
       "      <th>bathrooms</th>\n",
       "      <th>area</th>\n",
       "    </tr>\n",
       "  </thead>\n",
       "  <tbody>\n",
       "    <tr>\n",
       "      <th>20297</th>\n",
       "      <td>0.333333</td>\n",
       "      <td>0.333333</td>\n",
       "      <td>0.240518</td>\n",
       "    </tr>\n",
       "    <tr>\n",
       "      <th>11077</th>\n",
       "      <td>0.000000</td>\n",
       "      <td>0.000000</td>\n",
       "      <td>0.121492</td>\n",
       "    </tr>\n",
       "    <tr>\n",
       "      <th>3536</th>\n",
       "      <td>0.333333</td>\n",
       "      <td>0.666667</td>\n",
       "      <td>0.761640</td>\n",
       "    </tr>\n",
       "    <tr>\n",
       "      <th>50030</th>\n",
       "      <td>0.333333</td>\n",
       "      <td>0.666667</td>\n",
       "      <td>0.673451</td>\n",
       "    </tr>\n",
       "    <tr>\n",
       "      <th>36696</th>\n",
       "      <td>0.666667</td>\n",
       "      <td>0.833333</td>\n",
       "      <td>0.996608</td>\n",
       "    </tr>\n",
       "    <tr>\n",
       "      <th>...</th>\n",
       "      <td>...</td>\n",
       "      <td>...</td>\n",
       "      <td>...</td>\n",
       "    </tr>\n",
       "    <tr>\n",
       "      <th>38633</th>\n",
       "      <td>0.333333</td>\n",
       "      <td>0.000000</td>\n",
       "      <td>0.263336</td>\n",
       "    </tr>\n",
       "    <tr>\n",
       "      <th>27758</th>\n",
       "      <td>0.333333</td>\n",
       "      <td>0.500000</td>\n",
       "      <td>0.533457</td>\n",
       "    </tr>\n",
       "    <tr>\n",
       "      <th>12603</th>\n",
       "      <td>0.000000</td>\n",
       "      <td>0.333333</td>\n",
       "      <td>0.387912</td>\n",
       "    </tr>\n",
       "    <tr>\n",
       "      <th>43705</th>\n",
       "      <td>0.666667</td>\n",
       "      <td>0.333333</td>\n",
       "      <td>0.567684</td>\n",
       "    </tr>\n",
       "    <tr>\n",
       "      <th>50941</th>\n",
       "      <td>0.666667</td>\n",
       "      <td>0.666667</td>\n",
       "      <td>0.578477</td>\n",
       "    </tr>\n",
       "  </tbody>\n",
       "</table>\n",
       "<p>26773 rows × 3 columns</p>\n",
       "</div>"
      ],
      "text/plain": [
       "       bedrooms  bathrooms      area\n",
       "20297  0.333333   0.333333  0.240518\n",
       "11077  0.000000   0.000000  0.121492\n",
       "3536   0.333333   0.666667  0.761640\n",
       "50030  0.333333   0.666667  0.673451\n",
       "36696  0.666667   0.833333  0.996608\n",
       "...         ...        ...       ...\n",
       "38633  0.333333   0.000000  0.263336\n",
       "27758  0.333333   0.500000  0.533457\n",
       "12603  0.000000   0.333333  0.387912\n",
       "43705  0.666667   0.333333  0.567684\n",
       "50941  0.666667   0.666667  0.578477\n",
       "\n",
       "[26773 rows x 3 columns]"
      ]
     },
     "execution_count": 10,
     "metadata": {},
     "output_type": "execute_result"
    }
   ],
   "source": [
    "X_train"
   ]
  },
  {
   "cell_type": "code",
   "execution_count": 11,
   "id": "25cd5f53-50d8-4616-8777-f79096942fd0",
   "metadata": {},
   "outputs": [
    {
     "data": {
      "text/plain": [
       "20297    165920.0\n",
       "11077     71313.0\n",
       "3536     497916.0\n",
       "50030    216470.0\n",
       "36696    924092.0\n",
       "           ...   \n",
       "38633     48905.0\n",
       "27758    774558.0\n",
       "12603    716200.0\n",
       "43705    556524.0\n",
       "50941    350420.0\n",
       "Name: tax_value, Length: 26773, dtype: float64"
      ]
     },
     "execution_count": 11,
     "metadata": {},
     "output_type": "execute_result"
    }
   ],
   "source": [
    "y_train"
   ]
  },
  {
   "cell_type": "code",
   "execution_count": 12,
   "id": "7096dbf6-40e6-4483-a8be-746b8c598061",
   "metadata": {},
   "outputs": [
    {
     "data": {
      "image/png": "[encoded data removed]",
      "text/plain": [
       "<Figure size 720x720 with 14 Axes>"
      ]
     },
     "metadata": {
      "needs_background": "light"
     },
     "output_type": "display_data"
    }
   ],
   "source": [
    "sns.pairplot(data=train, corner=True)\n",
    "plt.show()"
   ]
  },
  {
   "cell_type": "code",
   "execution_count": 13,
   "id": "2367dbb3-d688-4cd7-9ae8-027522b927db",
   "metadata": {},
   "outputs": [
    {
     "data": {
      "text/html": [
       "<div>\n",
       "<style scoped>\n",
       "    .dataframe tbody tr th:only-of-type {\n",
       "        vertical-align: middle;\n",
       "    }\n",
       "\n",
       "    .dataframe tbody tr th {\n",
       "        vertical-align: top;\n",
       "    }\n",
       "\n",
       "    .dataframe thead th {\n",
       "        text-align: right;\n",
       "    }\n",
       "</style>\n",
       "<table border=\"1\" class=\"dataframe\">\n",
       "  <thead>\n",
       "    <tr style=\"text-align: right;\">\n",
       "      <th></th>\n",
       "      <th>bedrooms</th>\n",
       "      <th>bathrooms</th>\n",
       "      <th>area</th>\n",
       "      <th>tax_value</th>\n",
       "    </tr>\n",
       "  </thead>\n",
       "  <tbody>\n",
       "    <tr>\n",
       "      <th>bedrooms</th>\n",
       "      <td>1.000000</td>\n",
       "      <td>0.571909</td>\n",
       "      <td>0.615108</td>\n",
       "      <td>0.206707</td>\n",
       "    </tr>\n",
       "    <tr>\n",
       "      <th>bathrooms</th>\n",
       "      <td>0.571909</td>\n",
       "      <td>1.000000</td>\n",
       "      <td>0.801455</td>\n",
       "      <td>0.402517</td>\n",
       "    </tr>\n",
       "    <tr>\n",
       "      <th>area</th>\n",
       "      <td>0.615108</td>\n",
       "      <td>0.801455</td>\n",
       "      <td>1.000000</td>\n",
       "      <td>0.450425</td>\n",
       "    </tr>\n",
       "    <tr>\n",
       "      <th>tax_value</th>\n",
       "      <td>0.206707</td>\n",
       "      <td>0.402517</td>\n",
       "      <td>0.450425</td>\n",
       "      <td>1.000000</td>\n",
       "    </tr>\n",
       "  </tbody>\n",
       "</table>\n",
       "</div>"
      ],
      "text/plain": [
       "           bedrooms  bathrooms      area  tax_value\n",
       "bedrooms   1.000000   0.571909  0.615108   0.206707\n",
       "bathrooms  0.571909   1.000000  0.801455   0.402517\n",
       "area       0.615108   0.801455  1.000000   0.450425\n",
       "tax_value  0.206707   0.402517  0.450425   1.000000"
      ]
     },
     "execution_count": 13,
     "metadata": {},
     "output_type": "execute_result"
    }
   ],
   "source": [
    "zillow_corr = train.corr(method='spearman')\n",
    "zillow_corr"
   ]
  },
  {
   "cell_type": "code",
   "execution_count": 14,
   "id": "ea4215a5-87d9-445f-9e11-c006a0506e44",
   "metadata": {},
   "outputs": [
    {
     "data": {
      "text/plain": [
       "<function matplotlib.pyplot.show(close=None, block=None)>"
      ]
     },
     "execution_count": 14,
     "metadata": {},
     "output_type": "execute_result"
    },
    {
     "data": {
      "image/png": "[encoded data removed]",
      "text/plain": [
       "<Figure size 432x288 with 2 Axes>"
      ]
     },
     "metadata": {
      "needs_background": "light"
     },
     "output_type": "display_data"
    }
   ],
   "source": [
    "sns.heatmap(zillow_corr, cmap='Blues', annot=True)\n",
    "plt.show"
   ]
  },
  {
   "cell_type": "code",
   "execution_count": 15,
   "id": "5e845b2a-0da4-48b3-b811-ff72575e48bc",
   "metadata": {},
   "outputs": [
    {
     "name": "stdout",
     "output_type": "stream",
     "text": [
      "bedrooms\n",
      "Correlation Coefficient by Spearman Test: 0.20670726698288353\n",
      "p-value: 3.324960139419111e-256\n",
      "\n",
      "We can reject the null hypothesis\n",
      "\n",
      "bathrooms\n",
      "Correlation Coefficient by Spearman Test: 0.40251715969962504\n",
      "p-value: 0.0\n",
      "\n",
      "We can reject the null hypothesis\n",
      "\n",
      "area\n",
      "Correlation Coefficient by Spearman Test: 0.45042451436050934\n",
      "p-value: 0.0\n",
      "\n",
      "We can reject the null hypothesis\n",
      "\n",
      "tax_value\n",
      "Correlation Coefficient by Spearman Test: 0.9999999999999999\n",
      "p-value: 0.0\n",
      "\n",
      "We can reject the null hypothesis\n",
      "\n"
     ]
    }
   ],
   "source": [
    "for col in train:\n",
    "    print(col)\n",
    "    r, p_value = stats.spearmanr(train[col], y_train)\n",
    "\n",
    "    print(f'Correlation Coefficient by Spearman Test: {r}\\np-value: {p_value}')\n",
    "    print()\n",
    "\n",
    "    if p_value < 0.05:\n",
    "        print('We can reject the null hypothesis')\n",
    "        print()\n",
    "    else:\n",
    "        print('we cannot reject the null hypothesis')\n",
    "        print()"
   ]
  },
  {
   "cell_type": "code",
   "execution_count": 16,
   "id": "5f39f1be-d890-4490-a88e-592018949285",
   "metadata": {},
   "outputs": [],
   "source": [
    "y_train = pd.DataFrame(y_train)\n",
    "y_validate = pd.DataFrame(y_validate)"
   ]
  },
  {
   "cell_type": "code",
   "execution_count": 17,
   "id": "c81c6e3e-476f-4285-a22f-10541e55d9c5",
   "metadata": {},
   "outputs": [],
   "source": [
    "tax_value_mean = y_train['tax_value'].mean()\n",
    "y_train['tax_value_mean'] = tax_value_mean\n",
    "y_validate['tax_value_mean'] = tax_value_mean"
   ]
  },
  {
   "cell_type": "code",
   "execution_count": 18,
   "id": "36fec8e4-2cfb-41b7-9733-8be5acefd5a5",
   "metadata": {},
   "outputs": [
    {
     "data": {
      "text/html": [
       "<div>\n",
       "<style scoped>\n",
       "    .dataframe tbody tr th:only-of-type {\n",
       "        vertical-align: middle;\n",
       "    }\n",
       "\n",
       "    .dataframe tbody tr th {\n",
       "        vertical-align: top;\n",
       "    }\n",
       "\n",
       "    .dataframe thead th {\n",
       "        text-align: right;\n",
       "    }\n",
       "</style>\n",
       "<table border=\"1\" class=\"dataframe\">\n",
       "  <thead>\n",
       "    <tr style=\"text-align: right;\">\n",
       "      <th></th>\n",
       "      <th>tax_value</th>\n",
       "      <th>tax_value_mean</th>\n",
       "    </tr>\n",
       "  </thead>\n",
       "  <tbody>\n",
       "    <tr>\n",
       "      <th>20297</th>\n",
       "      <td>165920.0</td>\n",
       "      <td>434543.699399</td>\n",
       "    </tr>\n",
       "    <tr>\n",
       "      <th>11077</th>\n",
       "      <td>71313.0</td>\n",
       "      <td>434543.699399</td>\n",
       "    </tr>\n",
       "    <tr>\n",
       "      <th>3536</th>\n",
       "      <td>497916.0</td>\n",
       "      <td>434543.699399</td>\n",
       "    </tr>\n",
       "    <tr>\n",
       "      <th>50030</th>\n",
       "      <td>216470.0</td>\n",
       "      <td>434543.699399</td>\n",
       "    </tr>\n",
       "    <tr>\n",
       "      <th>36696</th>\n",
       "      <td>924092.0</td>\n",
       "      <td>434543.699399</td>\n",
       "    </tr>\n",
       "    <tr>\n",
       "      <th>...</th>\n",
       "      <td>...</td>\n",
       "      <td>...</td>\n",
       "    </tr>\n",
       "    <tr>\n",
       "      <th>38633</th>\n",
       "      <td>48905.0</td>\n",
       "      <td>434543.699399</td>\n",
       "    </tr>\n",
       "    <tr>\n",
       "      <th>27758</th>\n",
       "      <td>774558.0</td>\n",
       "      <td>434543.699399</td>\n",
       "    </tr>\n",
       "    <tr>\n",
       "      <th>12603</th>\n",
       "      <td>716200.0</td>\n",
       "      <td>434543.699399</td>\n",
       "    </tr>\n",
       "    <tr>\n",
       "      <th>43705</th>\n",
       "      <td>556524.0</td>\n",
       "      <td>434543.699399</td>\n",
       "    </tr>\n",
       "    <tr>\n",
       "      <th>50941</th>\n",
       "      <td>350420.0</td>\n",
       "      <td>434543.699399</td>\n",
       "    </tr>\n",
       "  </tbody>\n",
       "</table>\n",
       "<p>26773 rows × 2 columns</p>\n",
       "</div>"
      ],
      "text/plain": [
       "       tax_value  tax_value_mean\n",
       "20297   165920.0   434543.699399\n",
       "11077    71313.0   434543.699399\n",
       "3536    497916.0   434543.699399\n",
       "50030   216470.0   434543.699399\n",
       "36696   924092.0   434543.699399\n",
       "...          ...             ...\n",
       "38633    48905.0   434543.699399\n",
       "27758   774558.0   434543.699399\n",
       "12603   716200.0   434543.699399\n",
       "43705   556524.0   434543.699399\n",
       "50941   350420.0   434543.699399\n",
       "\n",
       "[26773 rows x 2 columns]"
      ]
     },
     "execution_count": 18,
     "metadata": {},
     "output_type": "execute_result"
    }
   ],
   "source": [
    "y_train"
   ]
  },
  {
   "cell_type": "code",
   "execution_count": 19,
   "id": "903ff959-1e66-4406-933d-c1c68f7eeb2b",
   "metadata": {},
   "outputs": [
    {
     "name": "stdout",
     "output_type": "stream",
     "text": [
      "RMSE using Mean\n",
      "Train/In-Sample:  405904.68 \n",
      "Validate/Out-of-Sample:  409288.61\n"
     ]
    }
   ],
   "source": [
    "rmse_train = mean_squared_error(y_train.tax_value, y_train.tax_value_mean) ** .5\n",
    "rmse_validate = mean_squared_error(y_validate.tax_value, y_validate.tax_value_mean) ** .5\n",
    "\n",
    "print('RMSE using Mean\\nTrain/In-Sample: ', round(rmse_train,2),\n",
    "      '\\nValidate/Out-of-Sample: ', round(rmse_validate, 2))"
   ]
  },
  {
   "cell_type": "code",
   "execution_count": 20,
   "id": "459cdc84-8501-460b-ae6a-90a67c678379",
   "metadata": {},
   "outputs": [],
   "source": [
    "metric_df = pd.DataFrame(\n",
    "    data=[{\n",
    "        'model': 'mean_baseline',\n",
    "        'rmse': rmse_validate,\n",
    "        'r^2': explained_variance_score(y_validate.tax_value, y_validate.tax_value_mean)\n",
    "    }])"
   ]
  },
  {
   "cell_type": "code",
   "execution_count": 21,
   "id": "3c098863-d5cb-44db-b23b-8e5c8fca255c",
   "metadata": {},
   "outputs": [
    {
     "data": {
      "text/html": [
       "<div>\n",
       "<style scoped>\n",
       "    .dataframe tbody tr th:only-of-type {\n",
       "        vertical-align: middle;\n",
       "    }\n",
       "\n",
       "    .dataframe tbody tr th {\n",
       "        vertical-align: top;\n",
       "    }\n",
       "\n",
       "    .dataframe thead th {\n",
       "        text-align: right;\n",
       "    }\n",
       "</style>\n",
       "<table border=\"1\" class=\"dataframe\">\n",
       "  <thead>\n",
       "    <tr style=\"text-align: right;\">\n",
       "      <th></th>\n",
       "      <th>model</th>\n",
       "      <th>rmse</th>\n",
       "      <th>r^2</th>\n",
       "    </tr>\n",
       "  </thead>\n",
       "  <tbody>\n",
       "    <tr>\n",
       "      <th>0</th>\n",
       "      <td>mean_baseline</td>\n",
       "      <td>409288.612935</td>\n",
       "      <td>0.0</td>\n",
       "    </tr>\n",
       "  </tbody>\n",
       "</table>\n",
       "</div>"
      ],
      "text/plain": [
       "           model           rmse  r^2\n",
       "0  mean_baseline  409288.612935  0.0"
      ]
     },
     "execution_count": 21,
     "metadata": {},
     "output_type": "execute_result"
    }
   ],
   "source": [
    "metric_df"
   ]
  },
  {
   "cell_type": "code",
   "execution_count": 22,
   "id": "d59baf9b-c1b2-463e-af92-14531be55fd3",
   "metadata": {},
   "outputs": [
    {
     "name": "stdin",
     "output_type": "stream",
     "text": [
      "Name for model? LinearRegression\n"
     ]
    }
   ],
   "source": [
    "metric_df = evaluate.model_metrics(LinearRegression(), X_train, y_train, X_validate, y_validate, metric_df)"
   ]
  },
  {
   "cell_type": "code",
   "execution_count": 23,
   "id": "8203cb73-c062-49ff-bdf3-eac6ba154da7",
   "metadata": {},
   "outputs": [
    {
     "data": {
      "text/html": [
       "<div>\n",
       "<style scoped>\n",
       "    .dataframe tbody tr th:only-of-type {\n",
       "        vertical-align: middle;\n",
       "    }\n",
       "\n",
       "    .dataframe tbody tr th {\n",
       "        vertical-align: top;\n",
       "    }\n",
       "\n",
       "    .dataframe thead th {\n",
       "        text-align: right;\n",
       "    }\n",
       "</style>\n",
       "<table border=\"1\" class=\"dataframe\">\n",
       "  <thead>\n",
       "    <tr style=\"text-align: right;\">\n",
       "      <th></th>\n",
       "      <th>model</th>\n",
       "      <th>rmse</th>\n",
       "      <th>r^2</th>\n",
       "    </tr>\n",
       "  </thead>\n",
       "  <tbody>\n",
       "    <tr>\n",
       "      <th>0</th>\n",
       "      <td>mean_baseline</td>\n",
       "      <td>409288.612935</td>\n",
       "      <td>0.000000</td>\n",
       "    </tr>\n",
       "    <tr>\n",
       "      <th>1</th>\n",
       "      <td>LinearRegression</td>\n",
       "      <td>368403.390666</td>\n",
       "      <td>0.189808</td>\n",
       "    </tr>\n",
       "  </tbody>\n",
       "</table>\n",
       "</div>"
      ],
      "text/plain": [
       "              model           rmse       r^2\n",
       "0     mean_baseline  409288.612935  0.000000\n",
       "1  LinearRegression  368403.390666  0.189808"
      ]
     },
     "execution_count": 23,
     "metadata": {},
     "output_type": "execute_result"
    }
   ],
   "source": [
    "metric_df"
   ]
  },
  {
   "cell_type": "code",
   "execution_count": 24,
   "id": "873acfb7-a34e-4ab9-b6c8-23e35778cea6",
   "metadata": {},
   "outputs": [
    {
     "name": "stdin",
     "output_type": "stream",
     "text": [
      "Name for model? Lasso\n"
     ]
    }
   ],
   "source": [
    "metric_df = evaluate.model_metrics(LassoLars(alpha=1), X_train, y_train, X_validate, y_validate, metric_df)"
   ]
  },
  {
   "cell_type": "code",
   "execution_count": 25,
   "id": "2298831b-5194-4ae3-bf96-c14921a5c42b",
   "metadata": {},
   "outputs": [
    {
     "data": {
      "text/html": [
       "<div>\n",
       "<style scoped>\n",
       "    .dataframe tbody tr th:only-of-type {\n",
       "        vertical-align: middle;\n",
       "    }\n",
       "\n",
       "    .dataframe tbody tr th {\n",
       "        vertical-align: top;\n",
       "    }\n",
       "\n",
       "    .dataframe thead th {\n",
       "        text-align: right;\n",
       "    }\n",
       "</style>\n",
       "<table border=\"1\" class=\"dataframe\">\n",
       "  <thead>\n",
       "    <tr style=\"text-align: right;\">\n",
       "      <th></th>\n",
       "      <th>model</th>\n",
       "      <th>rmse</th>\n",
       "      <th>r^2</th>\n",
       "    </tr>\n",
       "  </thead>\n",
       "  <tbody>\n",
       "    <tr>\n",
       "      <th>0</th>\n",
       "      <td>mean_baseline</td>\n",
       "      <td>409288.612935</td>\n",
       "      <td>0.000000</td>\n",
       "    </tr>\n",
       "    <tr>\n",
       "      <th>1</th>\n",
       "      <td>LinearRegression</td>\n",
       "      <td>368403.390666</td>\n",
       "      <td>0.189808</td>\n",
       "    </tr>\n",
       "    <tr>\n",
       "      <th>2</th>\n",
       "      <td>Lasso</td>\n",
       "      <td>368396.998575</td>\n",
       "      <td>0.189836</td>\n",
       "    </tr>\n",
       "  </tbody>\n",
       "</table>\n",
       "</div>"
      ],
      "text/plain": [
       "              model           rmse       r^2\n",
       "0     mean_baseline  409288.612935  0.000000\n",
       "1  LinearRegression  368403.390666  0.189808\n",
       "2             Lasso  368396.998575  0.189836"
      ]
     },
     "execution_count": 25,
     "metadata": {},
     "output_type": "execute_result"
    }
   ],
   "source": [
    "metric_df"
   ]
  },
  {
   "cell_type": "code",
   "execution_count": 26,
   "id": "7226a052-3bf8-49b6-b0d3-93cb835fd1cc",
   "metadata": {},
   "outputs": [
    {
     "name": "stdin",
     "output_type": "stream",
     "text": [
      "Name for model? GLM_power_2\n"
     ]
    }
   ],
   "source": [
    "metric_df = evaluate.model_metrics(TweedieRegressor(power = 2, alpha = 0), X_train, y_train, X_validate, y_validate, metric_df)"
   ]
  },
  {
   "cell_type": "code",
   "execution_count": 27,
   "id": "7b7986ce-e920-47fb-b165-f14ea0f8b7ce",
   "metadata": {},
   "outputs": [
    {
     "data": {
      "text/html": [
       "<div>\n",
       "<style scoped>\n",
       "    .dataframe tbody tr th:only-of-type {\n",
       "        vertical-align: middle;\n",
       "    }\n",
       "\n",
       "    .dataframe tbody tr th {\n",
       "        vertical-align: top;\n",
       "    }\n",
       "\n",
       "    .dataframe thead th {\n",
       "        text-align: right;\n",
       "    }\n",
       "</style>\n",
       "<table border=\"1\" class=\"dataframe\">\n",
       "  <thead>\n",
       "    <tr style=\"text-align: right;\">\n",
       "      <th></th>\n",
       "      <th>model</th>\n",
       "      <th>rmse</th>\n",
       "      <th>r^2</th>\n",
       "    </tr>\n",
       "  </thead>\n",
       "  <tbody>\n",
       "    <tr>\n",
       "      <th>0</th>\n",
       "      <td>mean_baseline</td>\n",
       "      <td>409288.612935</td>\n",
       "      <td>0.000000</td>\n",
       "    </tr>\n",
       "    <tr>\n",
       "      <th>1</th>\n",
       "      <td>LinearRegression</td>\n",
       "      <td>368403.390666</td>\n",
       "      <td>0.189808</td>\n",
       "    </tr>\n",
       "    <tr>\n",
       "      <th>2</th>\n",
       "      <td>Lasso</td>\n",
       "      <td>368396.998575</td>\n",
       "      <td>0.189836</td>\n",
       "    </tr>\n",
       "    <tr>\n",
       "      <th>3</th>\n",
       "      <td>GLM_power_2</td>\n",
       "      <td>366469.929790</td>\n",
       "      <td>0.198301</td>\n",
       "    </tr>\n",
       "  </tbody>\n",
       "</table>\n",
       "</div>"
      ],
      "text/plain": [
       "              model           rmse       r^2\n",
       "0     mean_baseline  409288.612935  0.000000\n",
       "1  LinearRegression  368403.390666  0.189808\n",
       "2             Lasso  368396.998575  0.189836\n",
       "3       GLM_power_2  366469.929790  0.198301"
      ]
     },
     "execution_count": 27,
     "metadata": {},
     "output_type": "execute_result"
    }
   ],
   "source": [
    "metric_df"
   ]
  },
  {
   "cell_type": "code",
   "execution_count": 28,
   "id": "5290b32d-695e-4aa9-be6c-30ffdf9c30d8",
   "metadata": {},
   "outputs": [],
   "source": [
    "pf = PolynomialFeatures(degree = 2)\n",
    "\n",
    "X_train_d2 = pf.fit_transform(X_train)\n",
    "\n",
    "X_validate_d2 = pf.transform(X_validate)"
   ]
  },
  {
   "cell_type": "code",
   "execution_count": 29,
   "id": "3fac8cf6-dc0c-4884-b8f1-d5433113ca8d",
   "metadata": {},
   "outputs": [
    {
     "data": {
      "text/plain": [
       "LinearRegression(normalize=True)"
      ]
     },
     "execution_count": 29,
     "metadata": {},
     "output_type": "execute_result"
    }
   ],
   "source": [
    "lm2 = LinearRegression(normalize=True)\n",
    "\n",
    "lm2.fit(X_train_d2, y_train.tax_value)"
   ]
  },
  {
   "cell_type": "code",
   "execution_count": 30,
   "id": "a2ec0752-4b34-4079-aac3-509665a3e8cc",
   "metadata": {},
   "outputs": [
    {
     "name": "stdin",
     "output_type": "stream",
     "text": [
      "Name for model? Quadratic_Model\n"
     ]
    }
   ],
   "source": [
    "in_sample_pred = lm2.predict(X_train_d2)\n",
    "out_sample_pred = lm2.predict(X_validate_d2)\n",
    "model_name = input('Name for model?')\n",
    "y_train[model_name] = in_sample_pred\n",
    "y_validate[model_name] = out_sample_pred\n",
    " \n",
    "rmse_val = mean_squared_error(\n",
    "y_validate['tax_value'], out_sample_pred, squared=False)\n",
    "r_squared_val = explained_variance_score(\n",
    "        y_validate['tax_value'], out_sample_pred)\n",
    "metric_df = metric_df.append({\n",
    "        'model': model_name,\n",
    "        'rmse': rmse_val,\n",
    "        'r^2': r_squared_val\n",
    "    }, ignore_index=True)"
   ]
  },
  {
   "cell_type": "code",
   "execution_count": 31,
   "id": "2f292e2d-93c1-4e83-a556-c638551b414d",
   "metadata": {},
   "outputs": [
    {
     "data": {
      "text/html": [
       "<div>\n",
       "<style scoped>\n",
       "    .dataframe tbody tr th:only-of-type {\n",
       "        vertical-align: middle;\n",
       "    }\n",
       "\n",
       "    .dataframe tbody tr th {\n",
       "        vertical-align: top;\n",
       "    }\n",
       "\n",
       "    .dataframe thead th {\n",
       "        text-align: right;\n",
       "    }\n",
       "</style>\n",
       "<table border=\"1\" class=\"dataframe\">\n",
       "  <thead>\n",
       "    <tr style=\"text-align: right;\">\n",
       "      <th></th>\n",
       "      <th>model</th>\n",
       "      <th>rmse</th>\n",
       "      <th>r^2</th>\n",
       "    </tr>\n",
       "  </thead>\n",
       "  <tbody>\n",
       "    <tr>\n",
       "      <th>0</th>\n",
       "      <td>mean_baseline</td>\n",
       "      <td>409288.612935</td>\n",
       "      <td>0.000000</td>\n",
       "    </tr>\n",
       "    <tr>\n",
       "      <th>1</th>\n",
       "      <td>LinearRegression</td>\n",
       "      <td>368403.390666</td>\n",
       "      <td>0.189808</td>\n",
       "    </tr>\n",
       "    <tr>\n",
       "      <th>2</th>\n",
       "      <td>Lasso</td>\n",
       "      <td>368396.998575</td>\n",
       "      <td>0.189836</td>\n",
       "    </tr>\n",
       "    <tr>\n",
       "      <th>3</th>\n",
       "      <td>GLM_power_2</td>\n",
       "      <td>366469.929790</td>\n",
       "      <td>0.198301</td>\n",
       "    </tr>\n",
       "    <tr>\n",
       "      <th>4</th>\n",
       "      <td>Quadratic_Model</td>\n",
       "      <td>366036.592065</td>\n",
       "      <td>0.200205</td>\n",
       "    </tr>\n",
       "  </tbody>\n",
       "</table>\n",
       "</div>"
      ],
      "text/plain": [
       "              model           rmse       r^2\n",
       "0     mean_baseline  409288.612935  0.000000\n",
       "1  LinearRegression  368403.390666  0.189808\n",
       "2             Lasso  368396.998575  0.189836\n",
       "3       GLM_power_2  366469.929790  0.198301\n",
       "4   Quadratic_Model  366036.592065  0.200205"
      ]
     },
     "execution_count": 31,
     "metadata": {},
     "output_type": "execute_result"
    }
   ],
   "source": [
    "metric_df"
   ]
  },
  {
   "cell_type": "code",
   "execution_count": null,
   "id": "d2dd979a-6afb-477f-9816-b7fac8b327dd",
   "metadata": {},
   "outputs": [],
   "source": []
  }
 ],
 "metadata": {
  "kernelspec": {
   "display_name": "Python 3 (ipykernel)",
   "language": "python",
   "name": "python3"
  },
  "language_info": {
   "codemirror_mode": {
    "name": "ipython",
    "version": 3
   },
   "file_extension": ".py",
   "mimetype": "text/x-python",
   "name": "python",
   "nbconvert_exporter": "python",
   "pygments_lexer": "ipython3",
   "version": "3.9.12"
  }
 },
 "nbformat": 4,
 "nbformat_minor": 5
}
